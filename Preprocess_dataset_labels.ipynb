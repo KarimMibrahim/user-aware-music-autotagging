{
 "cells": [
  {
   "cell_type": "markdown",
   "metadata": {},
   "source": [
    "## This script preprocess and creates the multilabel datasets for the audio model"
   ]
  },
  {
   "cell_type": "code",
   "execution_count": null,
   "metadata": {},
   "outputs": [],
   "source": [
    "import pandas as pd\n",
    "DATASET_PATH = \"/src_code/repo/Groundtruth/\""
   ]
  },
  {
   "cell_type": "code",
   "execution_count": null,
   "metadata": {},
   "outputs": [],
   "source": [
    "# read data\n",
    "train = pd.read_csv(DATASET_PATH + \"train_set.csv\")\n",
    "test = pd.read_csv(DATASET_PATH + \"test_set.csv\")\n",
    "valid = pd.read_csv(DATASET_PATH + \"validation_set.csv\")"
   ]
  },
  {
   "cell_type": "code",
   "execution_count": null,
   "metadata": {},
   "outputs": [],
   "source": [
    "# combine and save\n",
    "all_labels = pd.concat([train,test,valid], ignore_index=True)\n",
    "all_labels.to_csv(DATASET_PATH + \"single_label_all.csv\")"
   ]
  },
  {
   "cell_type": "code",
   "execution_count": null,
   "metadata": {},
   "outputs": [],
   "source": [
    "# make multilabel sets\n",
    "# for training\n",
    "train.drop(\"user_id\",axis = 1, inplace=True)\n",
    "train_multilabel = train.groupby(\"song_id\").sum()\n",
    "train_multilabel[train_multilabel>1] = 1\n",
    "train_multilabel = train_multilabel.reset_index()\n",
    "train_multilabel.to_csv(DATASET_PATH+\"train_multilabel.csv\", index = False)\n",
    "\n",
    "# for test\n",
    "test.drop(\"user_id\",axis = 1, inplace=True)\n",
    "test_multilabel = test.groupby(\"song_id\").sum()\n",
    "test_multilabel[test_multilabel>1] = 1\n",
    "test_multilabel = test_multilabel.reset_index()\n",
    "test_multilabel.to_csv(DATASET_PATH+\"test_multilabel.csv\", index = False)\n",
    "\n",
    "# for validation\n",
    "valid.drop(\"user_id\",axis = 1, inplace=True)\n",
    "valid_multilabel = valid.groupby(\"song_id\").sum()\n",
    "valid_multilabel[valid_multilabel>1] = 1\n",
    "valid_multilabel = valid_multilabel.reset_index()\n",
    "valid_multilabel.to_csv(DATASET_PATH+\"validation_multilabel.csv\", index = False)\n",
    "\n",
    "# combine and save\n",
    "all_samples = pd.concat([train_multilabel,test_multilabel,valid_multilabel])\n",
    "all_samples = all_samples.groupby(\"song_id\").sum()\n",
    "all_samples[all_samples>1] = 1\n",
    "all_samples = all_samples.reset_index()\n",
    "all_samples.to_csv(DATASET_PATH+\"multilabel_all.csv\", index = False)"
   ]
  }
 ],
 "metadata": {
  "kernelspec": {
   "display_name": "Python 3",
   "language": "python",
   "name": "python3"
  },
  "language_info": {
   "codemirror_mode": {
    "name": "ipython",
    "version": 3
   },
   "file_extension": ".py",
   "mimetype": "text/x-python",
   "name": "python",
   "nbconvert_exporter": "python",
   "pygments_lexer": "ipython3",
   "version": "3.6.6"
  }
 },
 "nbformat": 4,
 "nbformat_minor": 2
}
